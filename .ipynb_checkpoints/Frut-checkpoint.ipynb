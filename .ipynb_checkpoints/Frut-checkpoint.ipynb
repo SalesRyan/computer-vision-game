{
 "cells": [
  {
   "cell_type": "markdown",
   "metadata": {},
   "source": [
    "# Structure the classes"
   ]
  },
  {
   "cell_type": "markdown",
   "metadata": {},
   "source": [
    "- ### object_frut\n",
    " - formulation of the fruit object, for manipulations involving the image, its value type and the color of the punctuation."
   ]
  },
  {
   "cell_type": "code",
   "execution_count": 22,
   "metadata": {},
   "outputs": [],
   "source": [
    "class object_frut:\n",
    "    def __init__(self,img,value,typ,color):\n",
    "        self.img = img\n",
    "        self.value= value\n",
    "        self.type = typ\n",
    "        self.color = color\n",
    "        \n",
    "    def getType(self):\n",
    "        return self.type\n",
    "    \n",
    "    def getValue(self):\n",
    "        return self.value\n",
    "    \n",
    "    def getImg(self):\n",
    "        return self.img\n",
    "\n",
    "    def getColor(self):\n",
    "        return self.color"
   ]
  },
  {
   "cell_type": "markdown",
   "metadata": {},
   "source": [
    "- ### player\n",
    " - formulation of the player object that has attributes of the amount of lives, its score and the amount of fruits that fell."
   ]
  },
  {
   "cell_type": "code",
   "execution_count": 23,
   "metadata": {},
   "outputs": [],
   "source": [
    "class player:\n",
    "    def __init__(self,hit,ttl,life):\n",
    "        self.ttl = ttl\n",
    "        self.life = life\n",
    "        self.hit = hit\n",
    "        \n",
    "    def getStatus(self):\n",
    "        return self.hit,self.ttl,self.life\n",
    "    \n",
    "    def setStatus(self,ttl,hit,life,typehit='frut'):\n",
    "        if self.hit + hit < 0 :self.hit = 0\n",
    "        else: self.hit += hit \n",
    "        \n",
    "        if typehit == 'bomba':\n",
    "            life = 1\n",
    "        \n",
    "        self.ttl += ttl\n",
    "        self.life -= life\n",
    "    \n",
    "    def getHit(self):\n",
    "        return self.hit\n",
    "    \n",
    "    def getLife(self):\n",
    "        return self.life\n",
    "    \n",
    "    def getTtl(self):\n",
    "        return self.ttl"
   ]
  },
  {
   "cell_type": "markdown",
   "metadata": {},
   "source": [
    "- ### speed\n",
    " - This class contains the speed and level of the game, ranging from 1 to 4, depending on the player's score."
   ]
  },
  {
   "cell_type": "code",
   "execution_count": 24,
   "metadata": {},
   "outputs": [],
   "source": [
    "class speed():\n",
    "    \n",
    "    def __init__(self,speed=[0,10],level=0):\n",
    "        self.sp = speed\n",
    "        self.level = level\n",
    "        \n",
    "    def calSpeed(self):\n",
    "        self.sp[0] = - self.sp[0]\n",
    "\n",
    "    \n",
    "    def setSpeed(self,nHit):\n",
    "        \n",
    "        speed = [[0, 10],[0, 15],[0, 25]]\n",
    "        \n",
    "        self.sp = speed[0]\n",
    "\n",
    "        if nHit >= 300:\n",
    "            x = random_number(-20,20,1)\n",
    "            self.sp = [x,20]\n",
    "            self.level = 4 \n",
    "        if nHit < 300:\n",
    "            self.sp = speed[2]\n",
    "            self.level = 3\n",
    "        if nHit < 150:\n",
    "            self.sp = speed[1]\n",
    "            self.level = 2\n",
    "        if nHit < 75:\n",
    "            self.sp = speed[0]\n",
    "            self.level = 1\n",
    "  \n",
    "    def getSpeed(self):\n",
    "        return self.sp\n",
    "    \n",
    "    def getLevel(self):\n",
    "        return self.level"
   ]
  },
  {
   "cell_type": "markdown",
   "metadata": {},
   "source": [
    "- ### CalHit\n",
    " - This class contains the coordinates of the last collision the player had, and the time of its consequences."
   ]
  },
  {
   "cell_type": "code",
   "execution_count": 25,
   "metadata": {},
   "outputs": [],
   "source": [
    "class CalHit():\n",
    "    def __init__(self,time=0,x=0,y=0):\n",
    "        self.time = time\n",
    "        self.x = x\n",
    "        self.y = y\n",
    "\n",
    "    def getTime(self):\n",
    "        return self.time\n",
    "    \n",
    "    def getX(self):\n",
    "        return self.x\n",
    "    \n",
    "    def getY(self):\n",
    "        return self.y\n",
    "    \n",
    "    def setTime(self,value):\n",
    "        self.time -= value\n",
    "    \n",
    "    def setY(self,y):\n",
    "        self.y -= y"
   ]
  },
  {
   "cell_type": "markdown",
   "metadata": {},
   "source": [
    "# Complementary functions load"
   ]
  },
  {
   "cell_type": "markdown",
   "metadata": {},
   "source": [
    "- ### load_fruts\n",
    " - This function loads the images of the fruits, creates the objects and sets their basic information.\n",
    " # ![title](imgs/banana.png) ![title](imgs/cereja.png) ![title](imgs/melancia.png) ![title](imgs/morango.png) ![title](imgs/bomba.png)\n",
    " - The collision values ​​are 1, 2, 5, 10 and -50, respectively."
   ]
  },
  {
   "cell_type": "code",
   "execution_count": 26,
   "metadata": {},
   "outputs": [],
   "source": [
    "def load_fruts(path):\n",
    "    \n",
    "    from pygame.image import load\n",
    "    \n",
    "    yellow = (253,255,164)\n",
    "    burgundy = (117,12,12)\n",
    "    green = (250,129,246)\n",
    "    red = (118,249,148)\n",
    "    black = (0,0,0)\n",
    "    \n",
    "    try:\n",
    "        \n",
    "        banana = object_frut(load(path+\"banana.png\"),1,'frut',yellow)\n",
    "        cereja = object_frut(load(path+\"cereja.png\"),2,'frut',burgundy)\n",
    "        melancia = object_frut(load(path+\"melancia.png\"),5,'frut',green)\n",
    "        morango = object_frut(load(path+\"morango.png\"),10,'frut',red)\n",
    "        bomba = object_frut(load(path+\"bomba.png\"),-50,'bomba',black)\n",
    "        \n",
    "    except Exception as inst:\n",
    "        raise inst\n",
    "    \n",
    "    return banana,cereja,melancia,morango,bomba"
   ]
  },
  {
   "cell_type": "markdown",
   "metadata": {},
   "source": [
    "- ### setscenario\n",
    " - This function loads the background images that make up the scene."
   ]
  },
  {
   "cell_type": "code",
   "execution_count": 27,
   "metadata": {},
   "outputs": [],
   "source": [
    "def setscenario(path):\n",
    "    \n",
    "    from pygame.image import load\n",
    "    \n",
    "    score = load(path+\"Score.png\")\n",
    "    heart = load(path+\"heart.png\")\n",
    "    backgroud = load(path+\"back.png\")\n",
    "    level = load(path+\"level.png\")\n",
    "    explosion = load(path+'explosion.png')\n",
    "    \n",
    "    return score, heart, backgroud, level, explosion"
   ]
  },
  {
   "cell_type": "markdown",
   "metadata": {},
   "source": [
    "- ### getEmoji\n",
    " - This function loads the emojis that were used to show the player what the detection status is.\n",
    " - ![title](imgs_face/smile.png) Indicates that the player does not have his eyes closed and is smiling.\n",
    " - ![title](imgs_face/closedeyes.png) Indicates that the player has his eyes closed.\n",
    " - ![title](imgs_face/normal.png) Indicates that the player has his eyes open and not smiling."
   ]
  },
  {
   "cell_type": "code",
   "execution_count": 28,
   "metadata": {},
   "outputs": [],
   "source": [
    "def getEmoji(path):\n",
    "    \n",
    "    from pygame.image import load\n",
    "    \n",
    "    smile = load(path+\"smile.png\")\n",
    "    eye = load(path+\"closedeyes.png\")\n",
    "    normal = load(path+\"normal.png\")\n",
    "\n",
    "    return smile,eye,normal"
   ]
  },
  {
   "cell_type": "markdown",
   "metadata": {},
   "source": [
    "- ### menuImgs\n",
    " - This function loads the menu elements.\n",
    "   ![title](menu/start.png) ![title](menu/about.png) \n",
    " - in the start menu the game starts in 2 seconds. To select smile near the start.\n",
    " - in the About menu the player will be redirected to the github link, and the game will close."
   ]
  },
  {
   "cell_type": "code",
   "execution_count": 29,
   "metadata": {},
   "outputs": [],
   "source": [
    "def menuImgs(path):\n",
    "    from pygame.image import load\n",
    "    \n",
    "    start = load(path+\"start.png\")\n",
    "    about = load(path+\"about.png\")\n",
    "    logo = load(path+\"fruity.png\")\n",
    "    \n",
    "    return start,about,logo"
   ]
  },
  {
   "cell_type": "markdown",
   "metadata": {},
   "source": [
    "- ### songbackground\n",
    " - This function loads the background music in the main game part."
   ]
  },
  {
   "cell_type": "code",
   "execution_count": 30,
   "metadata": {},
   "outputs": [],
   "source": [
    "def songbackground():\n",
    "    \n",
    "    from pygame import mixer\n",
    "    \n",
    "    mixer.init() \n",
    "    mixer.music.set_volume(0.5) \n",
    "    mixer.music.load('sound/Jazzapation.mp3')\n",
    "    mixer.music.play(-1)"
   ]
  },
  {
   "cell_type": "markdown",
   "metadata": {},
   "source": [
    "- ### songexplo\n",
    " - This function carries the sound of the explosion."
   ]
  },
  {
   "cell_type": "code",
   "execution_count": 31,
   "metadata": {},
   "outputs": [],
   "source": [
    "def songexplo():\n",
    "    \n",
    "    from pygame.mixer import music\n",
    "    \n",
    "    music.load('sound/zapsplat.mp3')\n",
    "    music.play(0)"
   ]
  },
  {
   "cell_type": "markdown",
   "metadata": {},
   "source": [
    "# Update functions"
   ]
  },
  {
   "cell_type": "markdown",
   "metadata": {},
   "source": [
    "- ### score_update\n",
    " - This function aims to produce the score."
   ]
  },
  {
   "cell_type": "code",
   "execution_count": 32,
   "metadata": {},
   "outputs": [],
   "source": [
    "def score_update(ttl=-1,hit=-1,font='rogfonts',size=15,color=(115,84,201),level=0):\n",
    "    \n",
    "    from pygame.font import SysFont\n",
    "     \n",
    "    txt_ttl = SysFont(font, size).render(str(ttl), True, color)\n",
    "    txt_hit = SysFont(font, size).render(str(hit), True, color)\n",
    "    lv = SysFont(font, size).render('Lv. '+str(level), True, color)\n",
    "    \n",
    "    return txt_ttl, txt_hit,lv"
   ]
  },
  {
   "cell_type": "markdown",
   "metadata": {},
   "source": [
    "- ### calLife\n",
    " - This function aims to produce life."
   ]
  },
  {
   "cell_type": "code",
   "execution_count": 33,
   "metadata": {},
   "outputs": [],
   "source": [
    "def calLife(life_p,screen,heart):\n",
    "    \n",
    "    x=6\n",
    "    y=20\n",
    "    for n in range( life_p):\n",
    "        screen.blit(heart,(x,y))\n",
    "        x+=27"
   ]
  },
  {
   "cell_type": "markdown",
   "metadata": {},
   "source": [
    "- ### random_number/random_frut\n",
    " - These functions aim to choose the fruit at random."
   ]
  },
  {
   "cell_type": "code",
   "execution_count": 34,
   "metadata": {},
   "outputs": [],
   "source": [
    "def random_number(min_value,max_value,s):\n",
    "    \n",
    "    from numpy.random import randint\n",
    "    \n",
    "    return randint(low=min_value, high=max_value, size=s)"
   ]
  },
  {
   "cell_type": "code",
   "execution_count": 35,
   "metadata": {},
   "outputs": [],
   "source": [
    "def random_frut(list_fruts,height=520):\n",
    "    \n",
    "    Objfrut = list_fruts[int(random_number(0,len(list_fruts),1))]\n",
    "    ballrect = Objfrut.getImg().get_rect(center = (int(random_number(Objfrut.getImg().get_width()//2+128,height-Objfrut.getImg().get_width()/2,1)),32))\n",
    "    \n",
    "    return Objfrut, ballrect"
   ]
  },
  {
   "cell_type": "markdown",
   "metadata": {},
   "source": [
    "# Collision functions"
   ]
  },
  {
   "cell_type": "markdown",
   "metadata": {},
   "source": [
    "- ### hit_objet\n",
    " - This function calculates the distance of objects."
   ]
  },
  {
   "cell_type": "code",
   "execution_count": 36,
   "metadata": {},
   "outputs": [],
   "source": [
    "def hit_objet(X1,Y1,X2,Y2):\n",
    "    \n",
    "    from math import sqrt\n",
    "    \n",
    "    if sqrt(pow((X2)-(X1),2)+pow((Y2)-(Y1),2)) < 90:\n",
    "        return True\n",
    "    return False"
   ]
  },
  {
   "cell_type": "markdown",
   "metadata": {},
   "source": [
    "- ### hit_show\n",
    " - This function produces the collision value text."
   ]
  },
  {
   "cell_type": "code",
   "execution_count": 37,
   "metadata": {},
   "outputs": [],
   "source": [
    "def hit_show(value=0,font='rogfonts',size=30,color=(255,255,255)):\n",
    "    \n",
    "    from pygame.font import SysFont\n",
    "    if value > 0:\n",
    "        value = str(\"+\"+str(value))\n",
    "    return SysFont(font, size).render(str(value), True, color)"
   ]
  },
  {
   "cell_type": "markdown",
   "metadata": {},
   "source": [
    "# About function"
   ]
  },
  {
   "cell_type": "code",
   "execution_count": 38,
   "metadata": {},
   "outputs": [],
   "source": [
    "def aboutgame():\n",
    "   \n",
    "    import webbrowser,sys,pygame\n",
    "\n",
    "    webbrowser.open('https://github.com/SalesRyan/computer-vision-game', new = 1)\n",
    "    pygame.quit()\n",
    "    sys.exit()"
   ]
  },
  {
   "cell_type": "markdown",
   "metadata": {},
   "source": [
    "# Object detection function"
   ]
  },
  {
   "cell_type": "markdown",
   "metadata": {},
   "source": [
    "- ### detection\n",
    " - This function aims to detect face, smile and eyes."
   ]
  },
  {
   "cell_type": "code",
   "execution_count": 53,
   "metadata": {},
   "outputs": [],
   "source": [
    "def detection(image):\n",
    "    \n",
    "    import cv2\n",
    "    import numpy as np\n",
    "    from math import sqrt\n",
    "\n",
    "    faceCascade1 = cv2.CascadeClassifier('features/haarcascade_frontalface_default.xml')\n",
    "    faceCascade2 = cv2.CascadeClassifier('features/haarcascade_smile.xml')\n",
    "    faceCascade3 = cv2.CascadeClassifier('features/haarcascade_eye.xml')\n",
    "\n",
    "    X = 0\n",
    "    Y = 0\n",
    "    \n",
    "    Xf = 0\n",
    "    Yf = 0\n",
    "    \n",
    "    smile_bool = False\n",
    "    \n",
    "    face = faceCascade1.detectMultiScale(image,minNeighbors=5,minSize=(200, 200),maxSize=(300,300))\n",
    "    smile = faceCascade2.detectMultiScale(image,minNeighbors=90,minSize=(80, 80),maxSize=(200,200))\n",
    "    eye = faceCascade3.detectMultiScale(image,minNeighbors=60,minSize=(50, 50),maxSize=(70,70))\n",
    "    \n",
    "    for (x, y, w, h) in eye:\n",
    "            cv2.rectangle(image, (x, y), (x+w, y+h), (115,84,201), 4)\n",
    "            \n",
    "    for (x, y, w, h) in face:\n",
    "        x -= 20\n",
    "        y += 20\n",
    "        w += 20\n",
    "        h += 20\n",
    "        \n",
    "        Xf = ((w//2)+x)\n",
    "        Yf = y\n",
    "                \n",
    "        for (x1, y1, w1, h1) in smile:\n",
    "            try:\n",
    "                dist = sqrt(pow((x1+w1//2)-(x+w//2),2)+pow((y1+h1//2)-(y+h//2),2))\n",
    "                \n",
    "                if (dist) < 90:\n",
    "                    cv2.rectangle(image, (x1, y1), (x1+w1, y1+h1), (115,84,201), 4)\n",
    "                    smile_bool = True\n",
    "                    X = (x1+w1//2)\n",
    "                    Y = (y1+h1//2)\n",
    "                \n",
    "            except:\n",
    "                  print(\"can't discover smile\")\n",
    "    \n",
    "    return image,bool(len(face)),bool(len(eye)),smile_bool,X,Y,Xf,Yf\n",
    "    "
   ]
  },
  {
   "cell_type": "markdown",
   "metadata": {},
   "source": [
    "# main\n",
    "\n",
    "- This function is responsible for controlling the gameplay and including all features."
   ]
  },
  {
   "cell_type": "code",
   "execution_count": 54,
   "metadata": {},
   "outputs": [],
   "source": [
    "def main():\n",
    "    \n",
    "    import sys, pygame, cv2\n",
    "    size = width, height = 800, 520\n",
    "    cap = cv2.VideoCapture(0)\n",
    "\n",
    "    value_hit = 0   \n",
    "\n",
    "    pygame.init() \n",
    "\n",
    "    list_fruts = load_fruts(\"imgs/\")\n",
    "    emojiSmile, emojiEye, emojiNormal = getEmoji(\"imgs_face/\")\n",
    "    score, heart, backgroud, level, explosion = setscenario(\"imgs_scenario/\")\n",
    "\n",
    "    emoji = emojiNormal\n",
    "\n",
    "    frut, ballrect = random_frut(list_fruts)\n",
    "    time = 0\n",
    "\n",
    "    if frut: \n",
    "        screen = pygame.display.set_mode(size)\n",
    "    else: \n",
    "        sys.exit()\n",
    "\n",
    "    ply = player(0,0,4)    \n",
    "    Hit = CalHit()\n",
    "    pygame.mixer.set_num_channels(2)\n",
    "    sp = speed()\n",
    "    songbackground()\n",
    "\n",
    "    while ply.getLife():\n",
    "\n",
    "        emoji = emojiNormal\n",
    "\n",
    "        for event in pygame.event.get():\n",
    "            if event.type == pygame.QUIT: \n",
    "                pygame.quit()\n",
    "                sys.exit()\n",
    "\n",
    "        sp.setSpeed(ply.getHit())\n",
    "\n",
    "        ballrect = ballrect.move(sp.getSpeed())\n",
    "        ttl_p, hit_p, life_p = ply.getStatus()\n",
    "        ttl, hit,lv = score_update(ttl_p, hit_p,level=sp.getLevel())\n",
    "\n",
    "        _, frame = cap.read()\n",
    "        frame = cv2.cvtColor(frame, cv2.COLOR_BGR2RGB)\n",
    "\n",
    "        image, face, eye, smile, X1,Y1,_,_ = detection(frame)\n",
    "\n",
    "        if not eye:\n",
    "            emoji = emojiEye\n",
    "\n",
    "        if smile:\n",
    "            emoji = emojiSmile\n",
    "            X2 = int(680-ballrect.x+(frut.getImg().get_size()[0]))\n",
    "            Y2 = int(ballrect.y+frut.getImg().get_size()[0]/2)\n",
    "\n",
    "            if hit_objet(X1,Y1,X2,Y2):\n",
    "\n",
    "                value_hit = hit_show(value=frut.getValue(),color=frut.getColor())\n",
    "                Hit = CalHit(5,ballrect.x,ballrect.y)\n",
    "\n",
    "                ply.setStatus(1,frut.getValue(),0,typehit=frut.getType())\n",
    "                frut, ballrect = random_frut(list_fruts)\n",
    "\n",
    "        if ballrect.top < 0 or ballrect.bottom > height:\n",
    "\n",
    "            if frut.getType() == 'bomba' and eye:\n",
    "                ply.setStatus(1,0,1)\n",
    "    \n",
    "                XB = ballrect.x\n",
    "                YB = ballrect.y\n",
    "                time = 5\n",
    "\n",
    "\n",
    "            frut, ballrect = random_frut(list_fruts)\n",
    "            ply.setStatus(1,0,0)\n",
    "\n",
    "        surf = pygame.surfarray.make_surface(image)\n",
    "        image = pygame.transform.rotate(surf, 270)\n",
    "\n",
    "        screen.blit(backgroud,(0,0))\n",
    "        screen.blit(image,(128,0))\n",
    "        screen.blit(score,(-5,-10))\n",
    "        screen.blit(level,(-10,100))\n",
    "        screen.blit(ttl,(10,65))\n",
    "        screen.blit(hit,(65,65))\n",
    "        screen.blit(lv,(30,140))\n",
    "        screen.blit(frut.getImg(), ballrect)\n",
    "        screen.blit(emoji,(735,0))\n",
    "\n",
    "        if time:\n",
    "            if time==5:\n",
    "                songexplo()\n",
    "            if time==1:\n",
    "                songbackground()\n",
    "\n",
    "            screen.blit(explosion,(XB,YB-200))\n",
    "            time -= 1\n",
    "\n",
    "        if Hit.getTime():        \n",
    "            screen.blit(value_hit,(Hit.getX(),Hit.getY()))\n",
    "            Hit.setTime(1)\n",
    "        Hit.setY(20)\n",
    "\n",
    "        calLife(life_p,screen,heart)\n",
    "        pygame.display.flip()\n",
    "    \n",
    "    \n",
    "    cap.release()\n",
    "    cv2.destroyAllWindows()\n",
    "    del(cap)\n",
    "    pygame.mixer.music.stop()\n",
    "\n",
    "    menu()\n",
    "    "
   ]
  },
  {
   "cell_type": "markdown",
   "metadata": {},
   "source": [
    "# menu\n",
    "- This function is responsible for managing the menu."
   ]
  },
  {
   "cell_type": "code",
   "execution_count": 55,
   "metadata": {},
   "outputs": [],
   "source": [
    "def menu():\n",
    "    \n",
    "    import sys, pygame, cv2, numpy\n",
    "    size = width, height = 800, 600\n",
    "    cap = cv2.VideoCapture(0)\n",
    "    import time\n",
    "\n",
    "    pygame.init()\n",
    "    screen = pygame.display.set_mode(size)\n",
    "    pygame.display.set_caption('Fruity Smile')\n",
    "    \n",
    "    _, _, backgroud, _, _ = setscenario(\"imgs_scenario/\")\n",
    "    start,about,logo = menuImgs(\"menu/\")\n",
    "    \n",
    "    while True:\n",
    "        \n",
    "        for event in pygame.event.get():\n",
    "            if event.type == pygame.QUIT: \n",
    "                pygame.quit()\n",
    "                sys.exit()\n",
    "                \n",
    "        _, frame = cap.read()\n",
    "        frame = cv2.cvtColor(frame, cv2.COLOR_BGR2RGB)\n",
    "        \n",
    "        _, face, eye, smile, X1,Y1,Xf,Yf = detection(frame)\n",
    "        if smile:\n",
    "            if numpy.argmax([hit_objet(X1,Y1,100,350),hit_objet(X1,Y1,400,350)]) == 1:\n",
    "                time.sleep(2.0)\n",
    "                main()\n",
    "            else:\n",
    "                \n",
    "                time.sleep(2.0)\n",
    "                aboutgame()\n",
    "               \n",
    "\n",
    "        surf = pygame.surfarray.make_surface(frame)\n",
    "        image = pygame.transform.rotate(surf, 270)\n",
    "\n",
    "        \n",
    "        screen.blit(backgroud,(0,0))\n",
    "        screen.blit(image,(80,80))\n",
    "        screen.blit(start,(100,350))\n",
    "        screen.blit(about,(400,350))\n",
    "        if face: screen.blit(logo,(655-Xf,Yf))\n",
    "        pygame.display.flip()\n",
    "        \n",
    "    cap.release()\n",
    "    cv2.destroyAllWindows()\n",
    "    del(cap)\n",
    "    pygame.quit()\n",
    "    sys.exit()\n",
    "    \n",
    "    return 0"
   ]
  },
  {
   "cell_type": "markdown",
   "metadata": {},
   "source": [
    "# Cell that starts the game."
   ]
  },
  {
   "cell_type": "code",
   "execution_count": 57,
   "metadata": {},
   "outputs": [
    {
     "ename": "SystemExit",
     "evalue": "",
     "output_type": "error",
     "traceback": [
      "An exception has occurred, use %tb to see the full traceback.\n",
      "\u001b[1;31mSystemExit\u001b[0m\n"
     ]
    }
   ],
   "source": [
    "try:\n",
    "    menu()\n",
    "except Exception as inst:\n",
    "        raise inst"
   ]
  },
  {
   "cell_type": "code",
   "execution_count": null,
   "metadata": {},
   "outputs": [],
   "source": []
  }
 ],
 "metadata": {
  "kernelspec": {
   "display_name": "Python 3",
   "language": "python",
   "name": "python3"
  },
  "language_info": {
   "codemirror_mode": {
    "name": "ipython",
    "version": 3
   },
   "file_extension": ".py",
   "mimetype": "text/x-python",
   "name": "python",
   "nbconvert_exporter": "python",
   "pygments_lexer": "ipython3",
   "version": "3.7.4"
  }
 },
 "nbformat": 4,
 "nbformat_minor": 4
}
