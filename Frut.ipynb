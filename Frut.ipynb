{
 "cells": [
  {
   "cell_type": "code",
   "execution_count": null,
   "metadata": {},
   "outputs": [],
   "source": [
    "def load_fruts(path):\n",
    "    \n",
    "    from pygame.image import load\n",
    "    \n",
    "    try:\n",
    "        \n",
    "        banana = load(path+\"banana.png\")\n",
    "        cereja = load(path+\"cereja.png\")\n",
    "        melancia = load(path+\"melancia.png\")\n",
    "        morango = load(path+\"morango.png\")\n",
    "        bomba = load(path+\"bomba.png\")\n",
    "        \n",
    "    except Exception as inst:\n",
    "        print(inst)\n",
    "        raise inst\n",
    "    \n",
    "    return banana,cereja,melancia,morango,bomba\n",
    "        \n",
    "def test_load_fruts():\n",
    "    \n",
    "    import pytest\n",
    "    \n",
    "    with pytest.raises(Exception,match='Unsupported image format'):\n",
    "        load_fruts(\"imgs/\")"
   ]
  },
  {
   "cell_type": "code",
   "execution_count": null,
   "metadata": {},
   "outputs": [],
   "source": [
    "def random_number(min_value,max_value,s):\n",
    "    \n",
    "    from numpy.random import randint\n",
    "    \n",
    "    return randint(low=min_value, high=max_value, size=s)"
   ]
  },
  {
   "cell_type": "code",
   "execution_count": null,
   "metadata": {},
   "outputs": [],
   "source": [
    "def random_frut(list_fruts):\n",
    "    \n",
    "    \n",
    "    frut = list_fruts[int(random_number(0,len(list_fruts),1))] \n",
    "    ballrect = frut.get_rect(center = (int(random_number(frut.get_width()//2+128,height-frut.get_width()/2,1)),32))\n",
    "    \n",
    "    return frut, ballrect"
   ]
  },
  {
   "cell_type": "code",
   "execution_count": null,
   "metadata": {},
   "outputs": [],
   "source": [
    "def score_update(ttl=-1,hit=-1,font='rogfonts',size=15,color=(0,0,0)):\n",
    "    \n",
    "    from pygame.font import SysFont\n",
    "    \n",
    "    txt_ttl = SysFont(font, size).render(str(ttl), True, color)\n",
    "    txt_hit = SysFont(font, size).render(str(hit), True, color)\n",
    "    \n",
    "    return txt_ttl, txt_hit"
   ]
  },
  {
   "cell_type": "code",
   "execution_count": null,
   "metadata": {},
   "outputs": [],
   "source": [
    "def calLife(life_p,screen,heart):\n",
    "    \n",
    "    x=6\n",
    "    y=20\n",
    "    for n in range( life_p):\n",
    "        screen.blit(heart,(x,y))\n",
    "        x+=27"
   ]
  },
  {
   "cell_type": "code",
   "execution_count": null,
   "metadata": {},
   "outputs": [],
   "source": [
    "def setscenario(path):\n",
    "    \n",
    "    from pygame.image import load\n",
    "    \n",
    "    score = load(path+\"Score.png\")\n",
    "    heart = load(path+\"heart.png\")\n",
    "    \n",
    "    return score,heart"
   ]
  },
  {
   "cell_type": "code",
   "execution_count": null,
   "metadata": {},
   "outputs": [],
   "source": [
    "class player:\n",
    "    def __init__(self,hit,ttl,life):\n",
    "        self.hit = hit\n",
    "        self.ttl = ttl\n",
    "        self.life = life\n",
    "    \n",
    "    def getStatus(self):\n",
    "        return self.hit,self.ttl,self.life\n",
    "    \n",
    "    def setStatus(self,hit,ttl,life):\n",
    "        self.hit += hit\n",
    "        self.ttl += ttl\n",
    "        self.life -= life"
   ]
  },
  {
   "cell_type": "code",
   "execution_count": null,
   "metadata": {},
   "outputs": [],
   "source": [
    "import sys, pygame, cv2\n",
    "\n",
    "size = width, height = 760, 480\n",
    "cap = cv2.VideoCapture(0)\n",
    "\n",
    "speed = [0, 20]\n",
    "white = 225, 225, 225\n",
    "\n",
    "list_fruts = load_fruts(\"imgs/\")\n",
    "score, heart = setscenario(\"imgs_scenario/\")\n",
    "\n",
    "frut, ballrect = random_frut(list_fruts)\n",
    "\n",
    "if frut: \n",
    "    screen = pygame.display.set_mode(size)\n",
    "else: \n",
    "    sys.exit()\n",
    "\n",
    "ply = player(0,0,4)    \n",
    "\n",
    "pygame.init() \n",
    "\n",
    "while frut:\n",
    "    \n",
    "    for event in pygame.event.get():\n",
    "        if event.type == pygame.QUIT: \n",
    "            pygame.quit()\n",
    "            sys.exit()\n",
    "\n",
    "    ballrect = ballrect.move(speed)\n",
    "\n",
    "    if ballrect.top < 0 or ballrect.bottom > height:\n",
    "        frut, ballrect = random_frut(list_fruts)\n",
    "        ply.setStatus(1,0,1)\n",
    "\n",
    "    ttl_p, hit_p, life_p = ply.getStatus()\n",
    "    ttl, hit = score_update(ttl_p, hit_p)\n",
    "\n",
    "    _, frame = cap.read()\n",
    "    surf = pygame.surfarray.make_surface(frame)\n",
    "    image = pygame.transform.rotate(surf, 270)\n",
    "\n",
    "    screen.fill(white)\n",
    "    screen.blit(image,(128,0))\n",
    "    screen.blit(score,(-5,-10))\n",
    "    screen.blit(ttl,(10,65))\n",
    "    screen.blit(hit,(65,65))\n",
    "    screen.blit(frut, ballrect)\n",
    "    calLife(life_p,screen,heart)\n",
    "    pygame.display.flip()\n",
    "        \n",
    "cap.release()\n",
    "cv2.destroyAllWindows()"
   ]
  },
  {
   "cell_type": "code",
   "execution_count": null,
   "metadata": {},
   "outputs": [],
   "source": []
  }
 ],
 "metadata": {
  "kernelspec": {
   "display_name": "Python 3",
   "language": "python",
   "name": "python3"
  },
  "language_info": {
   "codemirror_mode": {
    "name": "ipython",
    "version": 3
   },
   "file_extension": ".py",
   "mimetype": "text/x-python",
   "name": "python",
   "nbconvert_exporter": "python",
   "pygments_lexer": "ipython3",
   "version": "3.7.4"
  }
 },
 "nbformat": 4,
 "nbformat_minor": 4
}
