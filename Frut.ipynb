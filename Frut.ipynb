{
 "cells": [
  {
   "cell_type": "code",
   "execution_count": 13,
   "metadata": {},
   "outputs": [],
   "source": [
    "def load_fruts(path):\n",
    "    \n",
    "    from pygame.image import load\n",
    "    \n",
    "    try:\n",
    "        \n",
    "        banana = load(path+\"banana.png\")\n",
    "        cereja = load(path+\"cereja.png\")\n",
    "        melancia = load(path+\"melancia.png\")\n",
    "        morango = load(path+\"morango.png\")\n",
    "        bomba = load(path+\"bomba.png\")\n",
    "        \n",
    "    except Exception as inst:\n",
    "        print(inst)\n",
    "        raise inst\n",
    "    \n",
    "    return banana,cereja,melancia,morango,bomba\n",
    "        \n",
    "def test_load_fruts():\n",
    "    \n",
    "    import pytest\n",
    "    \n",
    "    with pytest.raises(Exception,match='Unsupported image format'):\n",
    "        load_fruts(\"imgs/\")\n",
    "        "
   ]
  },
  {
   "cell_type": "code",
   "execution_count": 14,
   "metadata": {},
   "outputs": [],
   "source": [
    "def random_number(min_value,max_value,s):\n",
    "    \n",
    "    from numpy.random import randint\n",
    "    \n",
    "    return randint(low=min_value, high=max_value, size=s)"
   ]
  },
  {
   "cell_type": "code",
   "execution_count": 15,
   "metadata": {},
   "outputs": [],
   "source": [
    "def random_frut(list_fruts):\n",
    "    \n",
    "    \n",
    "    frut = list_fruts[int(random_number(0,len(list_fruts),1))] \n",
    "    ballrect = frut.get_rect(center = (int(random_number(frut.get_width()//2+128,height-frut.get_width()/2,1)),32))\n",
    "    \n",
    "    return frut, ballrect"
   ]
  },
  {
   "cell_type": "code",
   "execution_count": 16,
   "metadata": {},
   "outputs": [],
   "source": [
    "def score_update(ttl=-1,hit=-1,font='rogfonts',size=15,color=(0,0,0)):\n",
    "    \n",
    "    from pygame.font import SysFont\n",
    "    \n",
    "    txt_ttl = SysFont(font, size).render(str(ttl), True, color)\n",
    "    txt_hit = SysFont(font, size).render(str(hit), True, color)\n",
    "    \n",
    "    return txt_ttl, txt_hit\n",
    "    "
   ]
  },
  {
   "cell_type": "code",
   "execution_count": 55,
   "metadata": {},
   "outputs": [],
   "source": [
    "def calLife(life_p,screen,heart):\n",
    "    \n",
    "    x=1\n",
    "    y=20\n",
    "    for n in range( life_p):\n",
    "        screen.blit(heart,(x,y))\n",
    "        x+=27\n",
    "    "
   ]
  },
  {
   "cell_type": "code",
   "execution_count": 64,
   "metadata": {},
   "outputs": [],
   "source": [
    "def setscenario(path):\n",
    "    \n",
    "    from pygame.image import load\n",
    "    \n",
    "    score = load(path+\"Score.png\")\n",
    "    heart = load(path+\"heart.png\")\n",
    "    \n",
    "    return score,heart"
   ]
  },
  {
   "cell_type": "code",
   "execution_count": 65,
   "metadata": {},
   "outputs": [],
   "source": [
    "class player:\n",
    "    def __init__(self,hit,ttl,life):\n",
    "        self.hit = hit\n",
    "        self.ttl = ttl\n",
    "        self.life = life\n",
    "    \n",
    "    def getStatus(self):\n",
    "        return self.hit,self.ttl,self.life\n",
    "    \n",
    "    def setStatus(self,hit,ttl,life):\n",
    "        self.hit += hit\n",
    "        self.ttl += ttl\n",
    "        self.life -= life\n",
    "        "
   ]
  },
  {
   "cell_type": "code",
   "execution_count": 68,
   "metadata": {},
   "outputs": [
    {
     "ename": "SystemExit",
     "evalue": "",
     "output_type": "error",
     "traceback": [
      "An exception has occurred, use %tb to see the full traceback.\n",
      "\u001b[1;31mSystemExit\u001b[0m\n"
     ]
    }
   ],
   "source": [
    "import sys, pygame\n",
    "pygame.init()\n",
    "\n",
    "size = width, height = 760, 480\n",
    "\n",
    "speed = [0, 1]\n",
    "white = 225, 225, 225\n",
    "\n",
    "list_fruts = load_fruts(\"imgs/\")\n",
    "score,heart = setscenario(\"imgs_scenario/\")\n",
    "\n",
    "frut, ballrect = random_frut(list_fruts)\n",
    "\n",
    "if frut: screen = pygame.display.set_mode(size)\n",
    "else: sys.exit()\n",
    "\n",
    "ply = player(0,0,4)    \n",
    "\n",
    "pygame.init() \n",
    "\n",
    "while frut:\n",
    "    \n",
    "        \n",
    "        for event in pygame.event.get():\n",
    "                if event.type == pygame.QUIT: \n",
    "                    pygame.quit()\n",
    "                    sys.exit()\n",
    "\n",
    "        \n",
    "    \n",
    "\n",
    "        ballrect = ballrect.move(speed)\n",
    "        \n",
    "        if ballrect.top < 0 or ballrect.bottom > height:\n",
    "            frut, ballrect = random_frut(list_fruts)\n",
    "            ply.setStatus(1,0,1)\n",
    "        \n",
    "        ttl_p, hit_p, life_p = ply.getStatus()\n",
    "        \n",
    "        \n",
    "        ttl, hit = score_update(ttl_p, hit_p)\n",
    "        \n",
    "        screen.fill(white)\n",
    "        \n",
    "        screen.blit(score,(-10,-10))\n",
    "        screen.blit(ttl,(0,65))\n",
    "        screen.blit(hit,(55,65))\n",
    "        screen.blit(frut, ballrect)\n",
    "        calLife(life_p,screen,heart)\n",
    "        pygame.display.flip()"
   ]
  }
 ],
 "metadata": {
  "kernelspec": {
   "display_name": "Python 3",
   "language": "python",
   "name": "python3"
  },
  "language_info": {
   "codemirror_mode": {
    "name": "ipython",
    "version": 3
   },
   "file_extension": ".py",
   "mimetype": "text/x-python",
   "name": "python",
   "nbconvert_exporter": "python",
   "pygments_lexer": "ipython3",
   "version": "3.7.4"
  }
 },
 "nbformat": 4,
 "nbformat_minor": 4
}
